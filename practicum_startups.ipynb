{
 "cells": [
  {
   "cell_type": "markdown",
   "id": "103c9afa-adea-4ff6-97b8-3ed57c610a0d",
   "metadata": {},
   "source": [
    "Startups notebook"
   ]
  },
  {
   "cell_type": "code",
   "execution_count": null,
   "id": "f394ea23-876c-4940-97aa-1cc3c039f7f6",
   "metadata": {},
   "outputs": [],
   "source": []
  }
 ],
 "metadata": {
  "kernelspec": {
   "display_name": "Python 3 (ipykernel)",
   "language": "python",
   "name": "python3"
  },
  "language_info": {
   "codemirror_mode": {
    "name": "ipython",
    "version": 3
   },
   "file_extension": ".py",
   "mimetype": "text/x-python",
   "name": "python",
   "nbconvert_exporter": "python",
   "pygments_lexer": "ipython3",
   "version": "3.9.21"
  }
 },
 "nbformat": 4,
 "nbformat_minor": 5
}
