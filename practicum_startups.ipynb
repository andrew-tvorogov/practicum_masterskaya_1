{
 "cells": [
  {
   "cell_type": "markdown",
   "id": "d0472f85-89e7-435c-955c-99ddf8a25614",
   "metadata": {},
   "source": [
    "Ссылка на репозиторий проекта:\n",
    "https://github.com/andrew-tvorogov/practicum_masterskaya_1"
   ]
  },
  {
   "cell_type": "markdown",
   "id": "67414432-9588-426c-8912-e7e8c3c3e83e",
   "metadata": {},
   "source": [
    "## Рекомендации для инвесторов о целесообразности инвестирования в стартапы на основе данных о стартапах, функционировавших в период с 1970 по 2018 годы."
   ]
  },
  {
   "cell_type": "markdown",
   "id": "d5e4a188-00cc-4edf-8e08-d132f26810f8",
   "metadata": {},
   "source": [
    "<b>Заказчик исследования:</b>\n",
    "- yandex practicum\n",
    "\n",
    "<b>Источник данных:</b>\n",
    "- псевдо-реальные (реальные данные в которые добавлена синтетическая составляющая) данные о стартапах, функционировавших в период с 1970 по 2018 годы\n",
    "\n",
    "<b>Содержание данных:</b>\n",
    "- данные о стартапах;\n",
    "\n",
    "<b>Порядок проведения исследования:</b>\n",
    "- загрузить данные;\n",
    "- изучить данные;\n",
    "- выполнить предобработку данных;\n",
    "- полноценный разведочный анализ\n",
    "    - провести исследовательский анализ;\n",
    "    - провести корреляционный анализ признаков датасета;\n",
    "- разработка новых синтетических признаков;\n",
    "- проверка на мультиколлинеарность;\n",
    "- отбор финального набора обучающих признаков;\n",
    "- выбрать лучшую модель (выбор и обучение моделей);\n",
    "    - создать пайплан обработки признаков;\n",
    "    - создать пайплайн выбора лучшей модели.\n",
    "- итоговая оценка качества предсказания лучшей модели;\n",
    "- анализ важности ее признаков;\n",
    "- сделать общий вывод на основе готовых моделей (подготовка отчета по исследованию).\n",
    "\n",
    "<b>Задача:</b>\n",
    "<p>Разработать решение, которое позволит предсказать какие стартапы закроются.</p>\n",
    "\n",
    "<b>Цель исследования:</b>\n",
    "- снижение рисков при инвестировании в стартап;\n",
    "- получение прибыли;\n",
    "\n",
    "Данные доступны в файле ``kaggle_startups_train_28062024.csv``\n",
    "\n",
    "<b>Описание данных:</b>\n",
    "\n",
    "- ``name`` название стартапа;\r\n",
    "- ``category_list`` cписок категорий, к которым относится стартап;\r\n",
    "- ``funding_total_usd`` общая сумма финансирования в USD;\r\n",
    "- ``status`` татус стартапа (закрыт или действующий);\r\n",
    "- ``country_code`` код страны;\r\n",
    "- ``state_code`` код штата;\r\n",
    "- ``region`` регион;\r\n",
    "- ``city`` город;\r\n",
    "- ``funding_rounds`` количество раундов финансирования;\r\n",
    "- ``founded_at`` дата основания;\r\n",
    "- ``first_funding_at`` дата первого раунда финансирования;\r\n",
    "- ``last_funding_at`` дата последнего раунда финансирования;\r\n",
    "- ``closed_at`` дата закрытия стартапа (если применимо);\r\n",
    "- ``lifetime`` время существования стартапа в днях.\n",
    "</pre>"
   ]
  },
  {
   "cell_type": "markdown",
   "id": "ad70eae0-4e87-4f8c-a2ea-6729835aa6c4",
   "metadata": {},
   "source": [
    "<b>Дополнительно:</b>\n",
    "\n",
    "Для участия в соревновании на ресурсе Kaggle доступны дополнительные файлы:\n",
    "- ``kaggle_startups_train_28062024.csv``\n",
    "- ``kaggle_startups_sample_submit_28062024.csv``"
   ]
  },
  {
   "cell_type": "code",
   "execution_count": 1,
   "id": "766b8719-8c08-45d4-8081-ec3b809e0bf2",
   "metadata": {},
   "outputs": [],
   "source": [
    "# установка пакетов\n",
    "# SHapley Additive exPlanations\n",
    "#!pip install shap --quiet \n",
    "\n",
    "# correlation analyzer library\n",
    "#!pip install phik --quiet"
   ]
  },
  {
   "cell_type": "code",
   "execution_count": 2,
   "id": "f394ea23-876c-4940-97aa-1cc3c039f7f6",
   "metadata": {},
   "outputs": [],
   "source": [
    "# Загрузка библиотек\n",
    "import pandas as pd\n",
    "import matplotlib.pyplot as plt # для диаграмм\n",
    "import math # для диаграмм\n",
    "import numpy as np # для равномерного распределения значений на диаграмме\n",
    "import seaborn as sns\n",
    "#import shap # оценка вклада признака\n",
    "#import phik\n",
    "\n",
    "from sklearn.preprocessing import (\n",
    "    StandardScaler,\n",
    "    MinMaxScaler,\n",
    "    RobustScaler, \n",
    "    OneHotEncoder, \n",
    "    OrdinalEncoder)\n",
    "\n",
    "from sklearn.model_selection import train_test_split, GridSearchCV, RandomizedSearchCV\n",
    "\n",
    "from sklearn.impute import SimpleImputer\n",
    "from sklearn.linear_model import LogisticRegression\n",
    "from sklearn.neighbors import KNeighborsClassifier\n",
    "from sklearn.tree import DecisionTreeClassifier\n",
    "from sklearn.svm import SVC\n",
    "\n",
    "from sklearn.pipeline import Pipeline\n",
    "from sklearn.compose import ColumnTransformer\n",
    "from sklearn.metrics import roc_auc_score\n",
    "\n",
    "from warnings import simplefilter"
   ]
  },
  {
   "cell_type": "code",
   "execution_count": 3,
   "id": "eef5aa43-212b-457a-86ba-27979291ae85",
   "metadata": {},
   "outputs": [],
   "source": [
    "# Функции\n",
    "def dataset_info(df):\n",
    "    '''\n",
    "    Покажет сводную информацию по датасету\n",
    "    '''\n",
    "    print(f'''\\n''')\n",
    "    df.info()\n",
    "    print(f'''\\n''')\n",
    "    display(df.describe())\n",
    "    print(f'''\\n''')\n",
    "    display(df.head(3))\n",
    "    print(f'''\\n\\nЯвных дублей: {df.duplicated().sum()}\\n\\n''')\n",
    "    print(f'''Пропущенных значений:\\n{df.isna().sum()}\\n\\n''')\n",
    "    \n",
    "# функция для отображения круговой диаграммы распределения количества элементов по категории\n",
    "def show_category_pie(df, field, title):\n",
    "    '''\n",
    "    Отобразит круговую диаграмму распределения количества элементов по категории\n",
    "    '''\n",
    "    df[field]\\\n",
    "    .value_counts().plot(kind='pie', title = title + ', %', autopct='%1.0f%%', figsize=(7,7))\n",
    "    plt.ylabel('')\n",
    "    plt.show()\n",
    "\n",
    "# функция для отображения количественных признаков в виде графиков - гистограммы и ящика с усами\n",
    "def show_numeric_bplt_hist(df, variable, first_label, second_label, bins):\n",
    "    '''\n",
    "    Отобразит количественные признаки в виде графиков - гистограммы и ящика с усами\n",
    "    '''\n",
    "    fig, (ax1, ax2) = plt.subplots(1, 2, figsize=(15, 5))\n",
    "\n",
    "    ax1.hist(df[variable], bins=bins)\n",
    "    ax1.set_title('Гистограмма')\n",
    "    ax1.set_xlabel(first_label)\n",
    "    ax1.set_ylabel(second_label)    \n",
    "    ax1.grid(True)    \n",
    "    \n",
    "    ax2.boxplot(df[variable], vert=False)\n",
    "    ax2.set_title('Ящик с усами')\n",
    "    ax2.set_xlabel(first_label)\n",
    "    ax2.set_ylabel(second_label)\n",
    "    ax2.grid(True)\n",
    "    ax2.set_yticks([])\n",
    "\n",
    "    plt.show()    \n",
    "\n",
    "def show_two_pies(df_1, df_2, title, field):\n",
    "    '''\n",
    "    Отобразит две круговые диаграммы распределения количества элементов по категории для двух датасетов\n",
    "    '''\n",
    "    fig, (ax1, ax2) = plt.subplots(1, 2)\n",
    "    df_1[field]\\\n",
    "        .value_counts().plot(kind='pie', title = title + ' - train, %', autopct='%1.0f%%', figsize=(14,7), ax=ax1)\n",
    "    df_2[field]\\\n",
    "        .value_counts().plot(kind='pie', title = title + ' - test, %', autopct='%1.0f%%', figsize=(14,7), ax=ax2)\n",
    "    plt.ylabel('')\n",
    "    plt.xlabel('')\n",
    "    plt.show()\n",
    "    \n",
    "def show_two_barh(df_left, df_right, field, y_label, left_title, right_title):\n",
    "    '''\n",
    "    Отобразит две столбчатые диаграммы(горизонтальные) распределения количества элементов по категории для двух датасетов\n",
    "    '''\n",
    "    _, (ax1, ax2) = plt.subplots(1, 2, figsize=(20, 4))\n",
    "\n",
    "    df_left[field].value_counts(normalize=True).sort_values().plot.barh(alpha=0.5, color=colors[0], label='', ax=ax1)\n",
    "    ax1.set_title(left_title)\n",
    "    ax1.set_ylabel(y_label)    \n",
    "    df_right[field].value_counts(normalize=True).sort_values().plot.barh(alpha=0.5, color=colors[1], label='', ax=ax2)    \n",
    "    ax2.set_title(right_title)\n",
    "    plt.show()\n",
    "        \n",
    "def show_two_countplots(df_left, df_right, field, y_label, x_label, left_title, right_title, y_lim=(0, 100)):\n",
    "    '''\n",
    "    Отобразит две countplot диаграммы распределения количества элементов по категории для двух датасетов\n",
    "    '''\n",
    "    fig, axes = plt.subplots(1, 2)\n",
    "    fig.set_size_inches(16, 4)\n",
    "\n",
    "    left = sns.countplot(df_left[field], color=colors[0], ax=axes[0], alpha=0.5)\n",
    "    left.set(xlabel=x_label, ylabel=y_label, title=left_title, ylim=y_lim)\n",
    "    right = sns.countplot(df_right[field], color=colors[1], ax=axes[1], alpha=0.5)\n",
    "    right.set(xlabel=x_label, ylabel=y_label, title=right_title, ylim=y_lim)\n",
    "\n",
    "    plt.show()\n",
    "    \n",
    "def show_relative_table(df, main_field, req_field, req_field_value, title='', cmap='magma'):\n",
    "    '''\n",
    "    Отобразит таблицу частоты для признака по условию\n",
    "    '''\n",
    "    styles = [dict(selector=\"caption\",\n",
    "                       props=[(\"text-align\", \"center\"),\n",
    "                              (\"font-size\", \"110%\"),\n",
    "                              (\"color\", 'black')])]\n",
    "    normalized_diff = train_quit[train_quit[req_field] == req_field_value][main_field]\\\n",
    "                        .value_counts(normalize=True) - train_quit[main_field].value_counts(normalize=True)    \n",
    "    display(pd.DataFrame(normalized_diff).T.style\\\n",
    "            .background_gradient(cmap=cmap, axis=1)\\\n",
    "            .set_caption(title)\\\n",
    "            .set_table_styles(styles))\n",
    "\n",
    "'''\n",
    "Посчитает количество дней существования стартапа\n",
    "'''\n",
    "def count_lifetime(el):\n",
    "    if el['status'] == 'operating':\n",
    "        return (pd.to_datetime('2018-01-01') - el[\"founded_at\"]).days # самая \"правая\" дата по условию 2018-01-01\n",
    "    else:\n",
    "        return (el['closed_at'] - el[\"founded_at\"]).days"
   ]
  },
  {
   "cell_type": "code",
   "execution_count": 4,
   "id": "b7acab36-7362-476a-aece-c255be8e2431",
   "metadata": {},
   "outputs": [],
   "source": [
    "# инициализация глобальных переменных\n",
    "RANDOM_STATE = 42 # Deep Thought number\n",
    "TEST_SIZE = 0.25 # размер выборки"
   ]
  },
  {
   "cell_type": "code",
   "execution_count": 5,
   "id": "4f4563c7-551f-42a4-8796-95f1cb034fc6",
   "metadata": {},
   "outputs": [],
   "source": [
    "# настройки\n",
    "pd.options.display.max_columns = None # необходимо чтобы head отобразил все колонки\n",
    "plt.rcParams['figure.figsize'] = [15, 3] # размеры графика по умолчанию\n",
    "sns.set(rc={'figure.figsize':(15, 10)}) # размеры графика seaborn по умолчанию\n",
    "pd.set_option('display.float_format', '{:.2f}'.format) # отобразит в колонках округленные данные до 6-ти знаков\n",
    "\n",
    "simplefilter(action='ignore', category=FutureWarning) # уберёт предупреждение \"Set `keepdims`"
   ]
  },
  {
   "cell_type": "markdown",
   "id": "2520ea68-064b-494b-9e04-d17354a7d628",
   "metadata": {},
   "source": [
    "## Загрузка и изучение данных"
   ]
  },
  {
   "cell_type": "markdown",
   "id": "437f7dd4-1241-4bda-a77d-858a8c9a06e3",
   "metadata": {},
   "source": [
    "### Загрузка"
   ]
  },
  {
   "cell_type": "code",
   "execution_count": 6,
   "id": "f6bb2621-ee2d-4bcf-9a6d-2188349db517",
   "metadata": {},
   "outputs": [],
   "source": [
    "# загрузка данных в датасеты\n",
    "try:\n",
    "    startups_data = pd.read_csv('./datasets/kaggle_startups_train_28062024.csv') # рабочий датасет\n",
    "    startups_test = pd.read_csv('./datasets/kaggle_startups_test_28062024.csv') # датасет test для соревнования\n",
    "    startups_submit = pd.read_csv('./datasets/kaggle_startups_sample_submit_28062024.csv')  # пример результата\n",
    "except:\n",
    "    print(\"Ошибка. Данные не загружены\")"
   ]
  },
  {
   "cell_type": "markdown",
   "id": "cdaeb8c3-62c3-4694-9c0d-03ddd0f89603",
   "metadata": {},
   "source": [
    "#### Сводная информация датасет - ``startups_data``"
   ]
  },
  {
   "cell_type": "code",
   "execution_count": 7,
   "id": "56b91f5c-4aff-43f7-9ce7-22af9f8886a5",
   "metadata": {},
   "outputs": [
    {
     "name": "stdout",
     "output_type": "stream",
     "text": [
      "\n",
      "\n",
      "<class 'pandas.core.frame.DataFrame'>\n",
      "RangeIndex: 52516 entries, 0 to 52515\n",
      "Data columns (total 13 columns):\n",
      " #   Column             Non-Null Count  Dtype  \n",
      "---  ------             --------------  -----  \n",
      " 0   name               52515 non-null  object \n",
      " 1   category_list      50051 non-null  object \n",
      " 2   funding_total_usd  42447 non-null  float64\n",
      " 3   status             52516 non-null  object \n",
      " 4   country_code       47014 non-null  object \n",
      " 5   state_code         45753 non-null  object \n",
      " 6   region             46157 non-null  object \n",
      " 7   city               46157 non-null  object \n",
      " 8   funding_rounds     52516 non-null  int64  \n",
      " 9   founded_at         52516 non-null  object \n",
      " 10  first_funding_at   52516 non-null  object \n",
      " 11  last_funding_at    52516 non-null  object \n",
      " 12  closed_at          4917 non-null   object \n",
      "dtypes: float64(1), int64(1), object(11)\n",
      "memory usage: 5.2+ MB\n",
      "\n",
      "\n"
     ]
    },
    {
     "data": {
      "text/html": [
       "<div>\n",
       "<style scoped>\n",
       "    .dataframe tbody tr th:only-of-type {\n",
       "        vertical-align: middle;\n",
       "    }\n",
       "\n",
       "    .dataframe tbody tr th {\n",
       "        vertical-align: top;\n",
       "    }\n",
       "\n",
       "    .dataframe thead th {\n",
       "        text-align: right;\n",
       "    }\n",
       "</style>\n",
       "<table border=\"1\" class=\"dataframe\">\n",
       "  <thead>\n",
       "    <tr style=\"text-align: right;\">\n",
       "      <th></th>\n",
       "      <th>funding_total_usd</th>\n",
       "      <th>funding_rounds</th>\n",
       "    </tr>\n",
       "  </thead>\n",
       "  <tbody>\n",
       "    <tr>\n",
       "      <th>count</th>\n",
       "      <td>42447.00</td>\n",
       "      <td>52516.00</td>\n",
       "    </tr>\n",
       "    <tr>\n",
       "      <th>mean</th>\n",
       "      <td>18247480.66</td>\n",
       "      <td>1.74</td>\n",
       "    </tr>\n",
       "    <tr>\n",
       "      <th>std</th>\n",
       "      <td>187117301.32</td>\n",
       "      <td>1.37</td>\n",
       "    </tr>\n",
       "    <tr>\n",
       "      <th>min</th>\n",
       "      <td>1.00</td>\n",
       "      <td>1.00</td>\n",
       "    </tr>\n",
       "    <tr>\n",
       "      <th>25%</th>\n",
       "      <td>336027.50</td>\n",
       "      <td>1.00</td>\n",
       "    </tr>\n",
       "    <tr>\n",
       "      <th>50%</th>\n",
       "      <td>2000000.00</td>\n",
       "      <td>1.00</td>\n",
       "    </tr>\n",
       "    <tr>\n",
       "      <th>75%</th>\n",
       "      <td>10000000.00</td>\n",
       "      <td>2.00</td>\n",
       "    </tr>\n",
       "    <tr>\n",
       "      <th>max</th>\n",
       "      <td>30079503000.00</td>\n",
       "      <td>19.00</td>\n",
       "    </tr>\n",
       "  </tbody>\n",
       "</table>\n",
       "</div>"
      ],
      "text/plain": [
       "       funding_total_usd  funding_rounds\n",
       "count           42447.00        52516.00\n",
       "mean         18247480.66            1.74\n",
       "std         187117301.32            1.37\n",
       "min                 1.00            1.00\n",
       "25%            336027.50            1.00\n",
       "50%           2000000.00            1.00\n",
       "75%          10000000.00            2.00\n",
       "max       30079503000.00           19.00"
      ]
     },
     "metadata": {},
     "output_type": "display_data"
    },
    {
     "name": "stdout",
     "output_type": "stream",
     "text": [
      "\n",
      "\n"
     ]
    },
    {
     "data": {
      "text/html": [
       "<div>\n",
       "<style scoped>\n",
       "    .dataframe tbody tr th:only-of-type {\n",
       "        vertical-align: middle;\n",
       "    }\n",
       "\n",
       "    .dataframe tbody tr th {\n",
       "        vertical-align: top;\n",
       "    }\n",
       "\n",
       "    .dataframe thead th {\n",
       "        text-align: right;\n",
       "    }\n",
       "</style>\n",
       "<table border=\"1\" class=\"dataframe\">\n",
       "  <thead>\n",
       "    <tr style=\"text-align: right;\">\n",
       "      <th></th>\n",
       "      <th>name</th>\n",
       "      <th>category_list</th>\n",
       "      <th>funding_total_usd</th>\n",
       "      <th>status</th>\n",
       "      <th>country_code</th>\n",
       "      <th>state_code</th>\n",
       "      <th>region</th>\n",
       "      <th>city</th>\n",
       "      <th>funding_rounds</th>\n",
       "      <th>founded_at</th>\n",
       "      <th>first_funding_at</th>\n",
       "      <th>last_funding_at</th>\n",
       "      <th>closed_at</th>\n",
       "    </tr>\n",
       "  </thead>\n",
       "  <tbody>\n",
       "    <tr>\n",
       "      <th>0</th>\n",
       "      <td>Lunchgate</td>\n",
       "      <td>Online Reservations|Restaurants</td>\n",
       "      <td>828626.00</td>\n",
       "      <td>operating</td>\n",
       "      <td>CHE</td>\n",
       "      <td>25</td>\n",
       "      <td>Zurich</td>\n",
       "      <td>Zürich</td>\n",
       "      <td>2</td>\n",
       "      <td>2009-10-17</td>\n",
       "      <td>2011-05-01</td>\n",
       "      <td>2014-12-01</td>\n",
       "      <td>NaN</td>\n",
       "    </tr>\n",
       "    <tr>\n",
       "      <th>1</th>\n",
       "      <td>EarLens</td>\n",
       "      <td>Manufacturing|Medical|Medical Devices</td>\n",
       "      <td>42935019.00</td>\n",
       "      <td>operating</td>\n",
       "      <td>USA</td>\n",
       "      <td>CA</td>\n",
       "      <td>SF Bay Area</td>\n",
       "      <td>Redwood City</td>\n",
       "      <td>4</td>\n",
       "      <td>2005-01-01</td>\n",
       "      <td>2010-05-04</td>\n",
       "      <td>2014-02-25</td>\n",
       "      <td>NaN</td>\n",
       "    </tr>\n",
       "    <tr>\n",
       "      <th>2</th>\n",
       "      <td>Reviva Pharmaceuticals</td>\n",
       "      <td>Biotechnology</td>\n",
       "      <td>35456381.00</td>\n",
       "      <td>operating</td>\n",
       "      <td>USA</td>\n",
       "      <td>CA</td>\n",
       "      <td>SF Bay Area</td>\n",
       "      <td>San Jose</td>\n",
       "      <td>3</td>\n",
       "      <td>2006-01-01</td>\n",
       "      <td>2012-08-20</td>\n",
       "      <td>2014-07-02</td>\n",
       "      <td>NaN</td>\n",
       "    </tr>\n",
       "  </tbody>\n",
       "</table>\n",
       "</div>"
      ],
      "text/plain": [
       "                     name                          category_list  \\\n",
       "0               Lunchgate        Online Reservations|Restaurants   \n",
       "1                 EarLens  Manufacturing|Medical|Medical Devices   \n",
       "2  Reviva Pharmaceuticals                          Biotechnology   \n",
       "\n",
       "   funding_total_usd     status country_code state_code       region  \\\n",
       "0          828626.00  operating          CHE         25       Zurich   \n",
       "1        42935019.00  operating          USA         CA  SF Bay Area   \n",
       "2        35456381.00  operating          USA         CA  SF Bay Area   \n",
       "\n",
       "           city  funding_rounds  founded_at first_funding_at last_funding_at  \\\n",
       "0        Zürich               2  2009-10-17       2011-05-01      2014-12-01   \n",
       "1  Redwood City               4  2005-01-01       2010-05-04      2014-02-25   \n",
       "2      San Jose               3  2006-01-01       2012-08-20      2014-07-02   \n",
       "\n",
       "  closed_at  \n",
       "0       NaN  \n",
       "1       NaN  \n",
       "2       NaN  "
      ]
     },
     "metadata": {},
     "output_type": "display_data"
    },
    {
     "name": "stdout",
     "output_type": "stream",
     "text": [
      "\n",
      "\n",
      "Явных дублей: 0\n",
      "\n",
      "\n",
      "Пропущенных значений:\n",
      "name                     1\n",
      "category_list         2465\n",
      "funding_total_usd    10069\n",
      "status                   0\n",
      "country_code          5502\n",
      "state_code            6763\n",
      "region                6359\n",
      "city                  6359\n",
      "funding_rounds           0\n",
      "founded_at               0\n",
      "first_funding_at         0\n",
      "last_funding_at          0\n",
      "closed_at            47599\n",
      "dtype: int64\n",
      "\n",
      "\n"
     ]
    }
   ],
   "source": [
    "dataset_info(startups_data)"
   ]
  },
  {
   "cell_type": "markdown",
   "id": "10428c50-40dc-4f7a-abc7-99761a2ac3f1",
   "metadata": {},
   "source": [
    "<span style=\"color: darkgreen\">Явных дублей нет. </span><br><span style=\"color: #f85c00\">Есть пропущенные значения, которые необходимо заполнить, используя разные стратегии.<br>Типы данных выглядят нормально за исключением трёх атрибутов - **founded_at**, **first_funding_at** и **last_funding_at**, которые необходимо привести к типу **datetime64[ns]**.</span>"
   ]
  },
  {
   "cell_type": "markdown",
   "id": "3f3bee47-4331-40c2-a679-2c6b2c13cc8e",
   "metadata": {},
   "source": [
    "#### Сводная информация датасет - ``startups_test``"
   ]
  },
  {
   "cell_type": "code",
   "execution_count": 8,
   "id": "83707cac-199c-4c86-bbb1-206d53c01a7f",
   "metadata": {},
   "outputs": [
    {
     "name": "stdout",
     "output_type": "stream",
     "text": [
      "\n",
      "\n",
      "<class 'pandas.core.frame.DataFrame'>\n",
      "RangeIndex: 13125 entries, 0 to 13124\n",
      "Data columns (total 11 columns):\n",
      " #   Column             Non-Null Count  Dtype  \n",
      "---  ------             --------------  -----  \n",
      " 0   name               13125 non-null  object \n",
      " 1   category_list      12534 non-null  object \n",
      " 2   funding_total_usd  10547 non-null  float64\n",
      " 3   country_code       11743 non-null  object \n",
      " 4   state_code         11430 non-null  object \n",
      " 5   region             11536 non-null  object \n",
      " 6   city               11538 non-null  object \n",
      " 7   funding_rounds     13125 non-null  int64  \n",
      " 8   first_funding_at   13125 non-null  object \n",
      " 9   last_funding_at    13125 non-null  object \n",
      " 10  lifetime           13125 non-null  int64  \n",
      "dtypes: float64(1), int64(2), object(8)\n",
      "memory usage: 1.1+ MB\n",
      "\n",
      "\n"
     ]
    },
    {
     "data": {
      "text/html": [
       "<div>\n",
       "<style scoped>\n",
       "    .dataframe tbody tr th:only-of-type {\n",
       "        vertical-align: middle;\n",
       "    }\n",
       "\n",
       "    .dataframe tbody tr th {\n",
       "        vertical-align: top;\n",
       "    }\n",
       "\n",
       "    .dataframe thead th {\n",
       "        text-align: right;\n",
       "    }\n",
       "</style>\n",
       "<table border=\"1\" class=\"dataframe\">\n",
       "  <thead>\n",
       "    <tr style=\"text-align: right;\">\n",
       "      <th></th>\n",
       "      <th>funding_total_usd</th>\n",
       "      <th>funding_rounds</th>\n",
       "      <th>lifetime</th>\n",
       "    </tr>\n",
       "  </thead>\n",
       "  <tbody>\n",
       "    <tr>\n",
       "      <th>count</th>\n",
       "      <td>10547.00</td>\n",
       "      <td>13125.00</td>\n",
       "      <td>13125.00</td>\n",
       "    </tr>\n",
       "    <tr>\n",
       "      <th>mean</th>\n",
       "      <td>16549102.70</td>\n",
       "      <td>1.71</td>\n",
       "      <td>3097.61</td>\n",
       "    </tr>\n",
       "    <tr>\n",
       "      <th>std</th>\n",
       "      <td>92172825.63</td>\n",
       "      <td>1.32</td>\n",
       "      <td>2128.36</td>\n",
       "    </tr>\n",
       "    <tr>\n",
       "      <th>min</th>\n",
       "      <td>1.00</td>\n",
       "      <td>1.00</td>\n",
       "      <td>52.00</td>\n",
       "    </tr>\n",
       "    <tr>\n",
       "      <th>25%</th>\n",
       "      <td>320000.00</td>\n",
       "      <td>1.00</td>\n",
       "      <td>1726.00</td>\n",
       "    </tr>\n",
       "    <tr>\n",
       "      <th>50%</th>\n",
       "      <td>2000000.00</td>\n",
       "      <td>1.00</td>\n",
       "      <td>2526.00</td>\n",
       "    </tr>\n",
       "    <tr>\n",
       "      <th>75%</th>\n",
       "      <td>10000000.00</td>\n",
       "      <td>2.00</td>\n",
       "      <td>3866.00</td>\n",
       "    </tr>\n",
       "    <tr>\n",
       "      <th>max</th>\n",
       "      <td>4715000000.00</td>\n",
       "      <td>15.00</td>\n",
       "      <td>17167.00</td>\n",
       "    </tr>\n",
       "  </tbody>\n",
       "</table>\n",
       "</div>"
      ],
      "text/plain": [
       "       funding_total_usd  funding_rounds  lifetime\n",
       "count           10547.00        13125.00  13125.00\n",
       "mean         16549102.70            1.71   3097.61\n",
       "std          92172825.63            1.32   2128.36\n",
       "min                 1.00            1.00     52.00\n",
       "25%            320000.00            1.00   1726.00\n",
       "50%           2000000.00            1.00   2526.00\n",
       "75%          10000000.00            2.00   3866.00\n",
       "max        4715000000.00           15.00  17167.00"
      ]
     },
     "metadata": {},
     "output_type": "display_data"
    },
    {
     "name": "stdout",
     "output_type": "stream",
     "text": [
      "\n",
      "\n"
     ]
    },
    {
     "data": {
      "text/html": [
       "<div>\n",
       "<style scoped>\n",
       "    .dataframe tbody tr th:only-of-type {\n",
       "        vertical-align: middle;\n",
       "    }\n",
       "\n",
       "    .dataframe tbody tr th {\n",
       "        vertical-align: top;\n",
       "    }\n",
       "\n",
       "    .dataframe thead th {\n",
       "        text-align: right;\n",
       "    }\n",
       "</style>\n",
       "<table border=\"1\" class=\"dataframe\">\n",
       "  <thead>\n",
       "    <tr style=\"text-align: right;\">\n",
       "      <th></th>\n",
       "      <th>name</th>\n",
       "      <th>category_list</th>\n",
       "      <th>funding_total_usd</th>\n",
       "      <th>country_code</th>\n",
       "      <th>state_code</th>\n",
       "      <th>region</th>\n",
       "      <th>city</th>\n",
       "      <th>funding_rounds</th>\n",
       "      <th>first_funding_at</th>\n",
       "      <th>last_funding_at</th>\n",
       "      <th>lifetime</th>\n",
       "    </tr>\n",
       "  </thead>\n",
       "  <tbody>\n",
       "    <tr>\n",
       "      <th>0</th>\n",
       "      <td>Crystalsol</td>\n",
       "      <td>Clean Technology</td>\n",
       "      <td>2819200.00</td>\n",
       "      <td>NIC</td>\n",
       "      <td>17</td>\n",
       "      <td>NaN</td>\n",
       "      <td>NaN</td>\n",
       "      <td>1</td>\n",
       "      <td>2009-07-01</td>\n",
       "      <td>2009-07-01</td>\n",
       "      <td>3501</td>\n",
       "    </tr>\n",
       "    <tr>\n",
       "      <th>1</th>\n",
       "      <td>JBI Fish &amp; Wings</td>\n",
       "      <td>Hospitality</td>\n",
       "      <td>NaN</td>\n",
       "      <td>USA</td>\n",
       "      <td>TN</td>\n",
       "      <td>TN - Other</td>\n",
       "      <td>Humboldt</td>\n",
       "      <td>1</td>\n",
       "      <td>2010-07-28</td>\n",
       "      <td>2010-07-28</td>\n",
       "      <td>2717</td>\n",
       "    </tr>\n",
       "    <tr>\n",
       "      <th>2</th>\n",
       "      <td>COINPLUS</td>\n",
       "      <td>Finance</td>\n",
       "      <td>428257.00</td>\n",
       "      <td>LUX</td>\n",
       "      <td>3</td>\n",
       "      <td>Esch-sur-alzette</td>\n",
       "      <td>Esch-sur-alzette</td>\n",
       "      <td>2</td>\n",
       "      <td>2014-05-15</td>\n",
       "      <td>2014-09-18</td>\n",
       "      <td>1295</td>\n",
       "    </tr>\n",
       "  </tbody>\n",
       "</table>\n",
       "</div>"
      ],
      "text/plain": [
       "               name     category_list  funding_total_usd country_code  \\\n",
       "0        Crystalsol  Clean Technology         2819200.00          NIC   \n",
       "1  JBI Fish & Wings       Hospitality                NaN          USA   \n",
       "2          COINPLUS           Finance          428257.00          LUX   \n",
       "\n",
       "  state_code            region              city  funding_rounds  \\\n",
       "0         17               NaN               NaN               1   \n",
       "1         TN        TN - Other          Humboldt               1   \n",
       "2          3  Esch-sur-alzette  Esch-sur-alzette               2   \n",
       "\n",
       "  first_funding_at last_funding_at  lifetime  \n",
       "0       2009-07-01      2009-07-01      3501  \n",
       "1       2010-07-28      2010-07-28      2717  \n",
       "2       2014-05-15      2014-09-18      1295  "
      ]
     },
     "metadata": {},
     "output_type": "display_data"
    },
    {
     "name": "stdout",
     "output_type": "stream",
     "text": [
      "\n",
      "\n",
      "Явных дублей: 0\n",
      "\n",
      "\n",
      "Пропущенных значений:\n",
      "name                    0\n",
      "category_list         591\n",
      "funding_total_usd    2578\n",
      "country_code         1382\n",
      "state_code           1695\n",
      "region               1589\n",
      "city                 1587\n",
      "funding_rounds          0\n",
      "first_funding_at        0\n",
      "last_funding_at         0\n",
      "lifetime                0\n",
      "dtype: int64\n",
      "\n",
      "\n"
     ]
    }
   ],
   "source": [
    "dataset_info(startups_test)"
   ]
  },
  {
   "cell_type": "markdown",
   "id": "dfcaad1e-3a4b-4403-b321-58f25e83ce0b",
   "metadata": {},
   "source": [
    "<span style=\"color: darkgreen\">Явных дублей нет. </span><br><span style=\"color: #f85c00\">Есть пропущенные значения, которые необходимо заполнить, используя разные стратегии.<br>Типы данных выглядят нормально за исключением двух атрибутов - **first_funding_at** и **last_funding_at**, которые необходимо привести к типу **datetime64[ns]**.</span>"
   ]
  },
  {
   "cell_type": "markdown",
   "id": "f7d382fc-3bae-42b8-8e41-6092eb1c8ff6",
   "metadata": {},
   "source": [
    "#### Сводная информация датасет - ``startups_submit``"
   ]
  },
  {
   "cell_type": "code",
   "execution_count": 9,
   "id": "0a013135-3668-44e2-8a18-1cb6386532bc",
   "metadata": {},
   "outputs": [
    {
     "name": "stdout",
     "output_type": "stream",
     "text": [
      "\n",
      "\n",
      "<class 'pandas.core.frame.DataFrame'>\n",
      "RangeIndex: 13125 entries, 0 to 13124\n",
      "Data columns (total 2 columns):\n",
      " #   Column  Non-Null Count  Dtype \n",
      "---  ------  --------------  ----- \n",
      " 0   name    13125 non-null  object\n",
      " 1   status  13125 non-null  object\n",
      "dtypes: object(2)\n",
      "memory usage: 205.2+ KB\n",
      "\n",
      "\n"
     ]
    },
    {
     "data": {
      "text/html": [
       "<div>\n",
       "<style scoped>\n",
       "    .dataframe tbody tr th:only-of-type {\n",
       "        vertical-align: middle;\n",
       "    }\n",
       "\n",
       "    .dataframe tbody tr th {\n",
       "        vertical-align: top;\n",
       "    }\n",
       "\n",
       "    .dataframe thead th {\n",
       "        text-align: right;\n",
       "    }\n",
       "</style>\n",
       "<table border=\"1\" class=\"dataframe\">\n",
       "  <thead>\n",
       "    <tr style=\"text-align: right;\">\n",
       "      <th></th>\n",
       "      <th>name</th>\n",
       "      <th>status</th>\n",
       "    </tr>\n",
       "  </thead>\n",
       "  <tbody>\n",
       "    <tr>\n",
       "      <th>count</th>\n",
       "      <td>13125</td>\n",
       "      <td>13125</td>\n",
       "    </tr>\n",
       "    <tr>\n",
       "      <th>unique</th>\n",
       "      <td>13125</td>\n",
       "      <td>2</td>\n",
       "    </tr>\n",
       "    <tr>\n",
       "      <th>top</th>\n",
       "      <td>iSites</td>\n",
       "      <td>operating</td>\n",
       "    </tr>\n",
       "    <tr>\n",
       "      <th>freq</th>\n",
       "      <td>1</td>\n",
       "      <td>6635</td>\n",
       "    </tr>\n",
       "  </tbody>\n",
       "</table>\n",
       "</div>"
      ],
      "text/plain": [
       "          name     status\n",
       "count    13125      13125\n",
       "unique   13125          2\n",
       "top     iSites  operating\n",
       "freq         1       6635"
      ]
     },
     "metadata": {},
     "output_type": "display_data"
    },
    {
     "name": "stdout",
     "output_type": "stream",
     "text": [
      "\n",
      "\n"
     ]
    },
    {
     "data": {
      "text/html": [
       "<div>\n",
       "<style scoped>\n",
       "    .dataframe tbody tr th:only-of-type {\n",
       "        vertical-align: middle;\n",
       "    }\n",
       "\n",
       "    .dataframe tbody tr th {\n",
       "        vertical-align: top;\n",
       "    }\n",
       "\n",
       "    .dataframe thead th {\n",
       "        text-align: right;\n",
       "    }\n",
       "</style>\n",
       "<table border=\"1\" class=\"dataframe\">\n",
       "  <thead>\n",
       "    <tr style=\"text-align: right;\">\n",
       "      <th></th>\n",
       "      <th>name</th>\n",
       "      <th>status</th>\n",
       "    </tr>\n",
       "  </thead>\n",
       "  <tbody>\n",
       "    <tr>\n",
       "      <th>0</th>\n",
       "      <td>Crystalsol</td>\n",
       "      <td>closed</td>\n",
       "    </tr>\n",
       "    <tr>\n",
       "      <th>1</th>\n",
       "      <td>JBI Fish &amp; Wings</td>\n",
       "      <td>operating</td>\n",
       "    </tr>\n",
       "    <tr>\n",
       "      <th>2</th>\n",
       "      <td>COINPLUS</td>\n",
       "      <td>closed</td>\n",
       "    </tr>\n",
       "  </tbody>\n",
       "</table>\n",
       "</div>"
      ],
      "text/plain": [
       "               name     status\n",
       "0        Crystalsol     closed\n",
       "1  JBI Fish & Wings  operating\n",
       "2          COINPLUS     closed"
      ]
     },
     "metadata": {},
     "output_type": "display_data"
    },
    {
     "name": "stdout",
     "output_type": "stream",
     "text": [
      "\n",
      "\n",
      "Явных дублей: 0\n",
      "\n",
      "\n",
      "Пропущенных значений:\n",
      "name      0\n",
      "status    0\n",
      "dtype: int64\n",
      "\n",
      "\n"
     ]
    }
   ],
   "source": [
    "dataset_info(startups_submit)"
   ]
  },
  {
   "cell_type": "markdown",
   "id": "28d5afad-9945-4cb6-99d3-c6c11b5abea3",
   "metadata": {},
   "source": [
    "<span style=\"color: darkgreen\">Явных дублей нет. Пропущенных значений нет. Типы данных - корректны. </span>"
   ]
  },
  {
   "cell_type": "markdown",
   "id": "453317e0-c8c5-4730-8a7f-6edfa597f17e",
   "metadata": {},
   "source": [
    "**Вывод:**\n",
    "- Во всех трёх датасетах нет явных дублей;\n",
    "- Датасет startups_submit - пример структуры результата для соревнований. В проекте не будет использован. Явных дублей, пропущенных значений в нём нет. Данные корректны. Структура понятна.\n",
    "- Состав и количество колонок в ``startups_data`` и ``startups_test`` - отличаются.\n",
    "    - ``startups_test`` содержит колонку **life_time**, которой нет в ``startups_data``\n",
    "    - ``startups_data`` содержит колонку **founded_at** и **closed_at**, которых нет в ``startups_test``\n",
    "- Поскольку результат для соревнования должен быть получен при использовании ``startups_test``, необходимо предварительно привести состав колонок ``startups_data`` к ``startups_test``. Колонка **life_time** может быть заполнена из колонок **founded_at** и **closed_at** простым подсчётом дней."
   ]
  },
  {
   "cell_type": "markdown",
   "id": "a9074cb0-5721-49fc-986f-c1fa5531031a",
   "metadata": {},
   "source": [
    "## Предобработка данных"
   ]
  },
  {
   "cell_type": "markdown",
   "id": "ba6e4fe9-6539-44eb-932d-b0bf958d2a85",
   "metadata": {},
   "source": [
    "### Приведение типов данных колонок к **datetime64**"
   ]
  },
  {
   "cell_type": "markdown",
   "id": "7471b404-6c0f-4942-bad9-b20ddcb0177c",
   "metadata": {},
   "source": [
    "#### ``startups_data`` - колонки \"founded_at\",\"first_funding_at\",\"last_funding_at\",\"closed_at\""
   ]
  },
  {
   "cell_type": "code",
   "execution_count": 10,
   "id": "ea1ec044-b538-4610-94c9-2fca245605d3",
   "metadata": {},
   "outputs": [],
   "source": [
    "date_cols = [\"founded_at\",\"first_funding_at\",\"last_funding_at\",\"closed_at\"]\n",
    "startups_data[date_cols] = startups_data[date_cols].astype(\"datetime64[ns]\")"
   ]
  },
  {
   "cell_type": "code",
   "execution_count": 11,
   "id": "eee724c9-7a53-4fc0-bf96-515d88196a76",
   "metadata": {},
   "outputs": [
    {
     "name": "stdout",
     "output_type": "stream",
     "text": [
      "<class 'pandas.core.frame.DataFrame'>\n",
      "RangeIndex: 52516 entries, 0 to 52515\n",
      "Data columns (total 13 columns):\n",
      " #   Column             Non-Null Count  Dtype         \n",
      "---  ------             --------------  -----         \n",
      " 0   name               52515 non-null  object        \n",
      " 1   category_list      50051 non-null  object        \n",
      " 2   funding_total_usd  42447 non-null  float64       \n",
      " 3   status             52516 non-null  object        \n",
      " 4   country_code       47014 non-null  object        \n",
      " 5   state_code         45753 non-null  object        \n",
      " 6   region             46157 non-null  object        \n",
      " 7   city               46157 non-null  object        \n",
      " 8   funding_rounds     52516 non-null  int64         \n",
      " 9   founded_at         52516 non-null  datetime64[ns]\n",
      " 10  first_funding_at   52516 non-null  datetime64[ns]\n",
      " 11  last_funding_at    52516 non-null  datetime64[ns]\n",
      " 12  closed_at          4917 non-null   datetime64[ns]\n",
      "dtypes: datetime64[ns](4), float64(1), int64(1), object(7)\n",
      "memory usage: 5.2+ MB\n"
     ]
    }
   ],
   "source": [
    "startups_data.info()"
   ]
  },
  {
   "cell_type": "markdown",
   "id": "f913f0ab-7de7-4d63-936c-e09ae8bd9e3e",
   "metadata": {},
   "source": [
    "#### ``startups_test`` - колонки \"first_funding_at\",\"last_funding_at\""
   ]
  },
  {
   "cell_type": "code",
   "execution_count": 12,
   "id": "3c2fbd5f-e835-4d0a-9f1b-d3aab91dc3e5",
   "metadata": {},
   "outputs": [],
   "source": [
    "date_cols = [\"first_funding_at\",\"last_funding_at\"]\n",
    "startups_test[date_cols] = startups_test[date_cols].astype(\"datetime64[ns]\")"
   ]
  },
  {
   "cell_type": "code",
   "execution_count": 13,
   "id": "36e102a7-fc3a-4198-86f7-22cb5b307c86",
   "metadata": {},
   "outputs": [
    {
     "name": "stdout",
     "output_type": "stream",
     "text": [
      "<class 'pandas.core.frame.DataFrame'>\n",
      "RangeIndex: 13125 entries, 0 to 13124\n",
      "Data columns (total 11 columns):\n",
      " #   Column             Non-Null Count  Dtype         \n",
      "---  ------             --------------  -----         \n",
      " 0   name               13125 non-null  object        \n",
      " 1   category_list      12534 non-null  object        \n",
      " 2   funding_total_usd  10547 non-null  float64       \n",
      " 3   country_code       11743 non-null  object        \n",
      " 4   state_code         11430 non-null  object        \n",
      " 5   region             11536 non-null  object        \n",
      " 6   city               11538 non-null  object        \n",
      " 7   funding_rounds     13125 non-null  int64         \n",
      " 8   first_funding_at   13125 non-null  datetime64[ns]\n",
      " 9   last_funding_at    13125 non-null  datetime64[ns]\n",
      " 10  lifetime           13125 non-null  int64         \n",
      "dtypes: datetime64[ns](2), float64(1), int64(2), object(6)\n",
      "memory usage: 1.1+ MB\n"
     ]
    }
   ],
   "source": [
    "startups_test.info()"
   ]
  },
  {
   "cell_type": "markdown",
   "id": "54ea2a99-a8bc-43bc-a005-c8825e6300b5",
   "metadata": {},
   "source": [
    "<span style=\"color: darkgreen\">Типы данных в столбцах датасетов - корректны.</span>"
   ]
  },
  {
   "cell_type": "markdown",
   "id": "53745164-3ab3-431f-9751-b57d5ef660e2",
   "metadata": {},
   "source": [
    "### Приведение набора столбцов в датасетах к набору столбцов ``startups_test``"
   ]
  },
  {
   "cell_type": "markdown",
   "id": "9db27c08-2047-4a48-a7a1-497f37ed1926",
   "metadata": {},
   "source": [
    "#### Добавление столбца **lifetime** к датасету ``startups_data``"
   ]
  },
  {
   "cell_type": "markdown",
   "id": "747efed9-c460-48cb-8cf0-baf7be88d5c2",
   "metadata": {},
   "source": [
    "Для добавления столбца используется предварительно определённая функция *count_lifetime*.\n",
    "\n",
    "Количество дней подсчитывается исходя из даты основания **founded_at** и даты закрытия **closed_at**. Если дата закрытия не определена, то берётся дата ``2018-01-01`` (самая поздняя дата в датасете)."
   ]
  },
  {
   "cell_type": "markdown",
   "id": "2ca092ba-49e3-4807-bb6e-ab222ffc86fe",
   "metadata": {},
   "source": [
    "Проверка, что количество записей в колонке **status**, имеющих статус ``closed``, соответствует количеству записей в колонке **closed_at** и не ``NuT``."
   ]
  },
  {
   "cell_type": "code",
   "execution_count": 14,
   "id": "b812bd79-fdb5-4a62-8f63-82d3073e8d5d",
   "metadata": {},
   "outputs": [
    {
     "data": {
      "text/plain": [
       "4917"
      ]
     },
     "execution_count": 14,
     "metadata": {},
     "output_type": "execute_result"
    }
   ],
   "source": [
    "len(startups_data[startups_data['closed_at'].notna()])"
   ]
  },
  {
   "cell_type": "code",
   "execution_count": 15,
   "id": "e5df22f9-9ac3-4882-8147-347b19c3989a",
   "metadata": {},
   "outputs": [
    {
     "data": {
      "text/plain": [
       "4917"
      ]
     },
     "execution_count": 15,
     "metadata": {},
     "output_type": "execute_result"
    }
   ],
   "source": [
    "len(startups_data[startups_data['status'] == 'closed'])"
   ]
  },
  {
   "cell_type": "markdown",
   "id": "13adf511-1f32-4fb2-ab55-2fda6ff95be2",
   "metadata": {},
   "source": [
    "Количество совпадает и равно 4917 - итого 4917 стартапов были закрыты и есть их дата закрытия."
   ]
  },
  {
   "cell_type": "code",
   "execution_count": 16,
   "id": "94d44830-d0c3-4a22-b477-a60f646ace1f",
   "metadata": {},
   "outputs": [],
   "source": [
    "startups_data['lifetime'] = startups_data.apply(count_lifetime, axis=1) # функция добавит новый столбец"
   ]
  },
  {
   "cell_type": "code",
   "execution_count": 17,
   "id": "6060e76b-dd1e-4e67-8a2d-741959a1a460",
   "metadata": {},
   "outputs": [
    {
     "data": {
      "text/html": [
       "<div>\n",
       "<style scoped>\n",
       "    .dataframe tbody tr th:only-of-type {\n",
       "        vertical-align: middle;\n",
       "    }\n",
       "\n",
       "    .dataframe tbody tr th {\n",
       "        vertical-align: top;\n",
       "    }\n",
       "\n",
       "    .dataframe thead th {\n",
       "        text-align: right;\n",
       "    }\n",
       "</style>\n",
       "<table border=\"1\" class=\"dataframe\">\n",
       "  <thead>\n",
       "    <tr style=\"text-align: right;\">\n",
       "      <th></th>\n",
       "      <th>name</th>\n",
       "      <th>category_list</th>\n",
       "      <th>funding_total_usd</th>\n",
       "      <th>status</th>\n",
       "      <th>country_code</th>\n",
       "      <th>state_code</th>\n",
       "      <th>region</th>\n",
       "      <th>city</th>\n",
       "      <th>funding_rounds</th>\n",
       "      <th>founded_at</th>\n",
       "      <th>first_funding_at</th>\n",
       "      <th>last_funding_at</th>\n",
       "      <th>closed_at</th>\n",
       "      <th>lifetime</th>\n",
       "    </tr>\n",
       "  </thead>\n",
       "  <tbody>\n",
       "    <tr>\n",
       "      <th>0</th>\n",
       "      <td>Lunchgate</td>\n",
       "      <td>Online Reservations|Restaurants</td>\n",
       "      <td>828626.00</td>\n",
       "      <td>operating</td>\n",
       "      <td>CHE</td>\n",
       "      <td>25</td>\n",
       "      <td>Zurich</td>\n",
       "      <td>Zürich</td>\n",
       "      <td>2</td>\n",
       "      <td>2009-10-17</td>\n",
       "      <td>2011-05-01</td>\n",
       "      <td>2014-12-01</td>\n",
       "      <td>NaT</td>\n",
       "      <td>2998</td>\n",
       "    </tr>\n",
       "  </tbody>\n",
       "</table>\n",
       "</div>"
      ],
      "text/plain": [
       "        name                    category_list  funding_total_usd     status  \\\n",
       "0  Lunchgate  Online Reservations|Restaurants          828626.00  operating   \n",
       "\n",
       "  country_code state_code  region    city  funding_rounds founded_at  \\\n",
       "0          CHE         25  Zurich  Zürich               2 2009-10-17   \n",
       "\n",
       "  first_funding_at last_funding_at closed_at  lifetime  \n",
       "0       2011-05-01      2014-12-01       NaT      2998  "
      ]
     },
     "execution_count": 17,
     "metadata": {},
     "output_type": "execute_result"
    }
   ],
   "source": [
    "startups_data.head(1)"
   ]
  },
  {
   "cell_type": "markdown",
   "id": "8d1bae0c-1136-49aa-b667-ef9ca31ea4b2",
   "metadata": {},
   "source": [
    "<span style=\"color: darkgreen\">Столбец **lifetime** добавлен.</span>"
   ]
  },
  {
   "cell_type": "code",
   "execution_count": 18,
   "id": "58023a4a-7b25-4cc7-82ae-9baff9bd0765",
   "metadata": {},
   "outputs": [],
   "source": [
    "# разница, выраженная в днях\n",
    "#startups_data[\"lifetime\"] = \\\n",
    "#(pd.to_datetime('2018-01-01') - startups_data[\"founded_at\"]).dt.days\n",
    "#startups_data"
   ]
  },
  {
   "cell_type": "markdown",
   "id": "0b439313-c116-4fd0-91b0-44e7a4604aca",
   "metadata": {},
   "source": [
    "#### Удаление из датасета ``startups_data`` колонок, которых нет в датасете ``startups_test`` - **founded_at** и **closed_at**"
   ]
  },
  {
   "cell_type": "code",
   "execution_count": 19,
   "id": "6bca12df-4f1f-4260-aa3b-6a5baef499e5",
   "metadata": {},
   "outputs": [],
   "source": [
    "startups_data = startups_data.drop(columns=['founded_at', 'closed_at'])"
   ]
  },
  {
   "cell_type": "code",
   "execution_count": 20,
   "id": "c3c25927-8d68-40be-86b8-21645e44fd43",
   "metadata": {},
   "outputs": [
    {
     "data": {
      "text/html": [
       "<div>\n",
       "<style scoped>\n",
       "    .dataframe tbody tr th:only-of-type {\n",
       "        vertical-align: middle;\n",
       "    }\n",
       "\n",
       "    .dataframe tbody tr th {\n",
       "        vertical-align: top;\n",
       "    }\n",
       "\n",
       "    .dataframe thead th {\n",
       "        text-align: right;\n",
       "    }\n",
       "</style>\n",
       "<table border=\"1\" class=\"dataframe\">\n",
       "  <thead>\n",
       "    <tr style=\"text-align: right;\">\n",
       "      <th></th>\n",
       "      <th>name</th>\n",
       "      <th>category_list</th>\n",
       "      <th>funding_total_usd</th>\n",
       "      <th>status</th>\n",
       "      <th>country_code</th>\n",
       "      <th>state_code</th>\n",
       "      <th>region</th>\n",
       "      <th>city</th>\n",
       "      <th>funding_rounds</th>\n",
       "      <th>first_funding_at</th>\n",
       "      <th>last_funding_at</th>\n",
       "      <th>lifetime</th>\n",
       "    </tr>\n",
       "  </thead>\n",
       "  <tbody>\n",
       "    <tr>\n",
       "      <th>0</th>\n",
       "      <td>Lunchgate</td>\n",
       "      <td>Online Reservations|Restaurants</td>\n",
       "      <td>828626.00</td>\n",
       "      <td>operating</td>\n",
       "      <td>CHE</td>\n",
       "      <td>25</td>\n",
       "      <td>Zurich</td>\n",
       "      <td>Zürich</td>\n",
       "      <td>2</td>\n",
       "      <td>2011-05-01</td>\n",
       "      <td>2014-12-01</td>\n",
       "      <td>2998</td>\n",
       "    </tr>\n",
       "  </tbody>\n",
       "</table>\n",
       "</div>"
      ],
      "text/plain": [
       "        name                    category_list  funding_total_usd     status  \\\n",
       "0  Lunchgate  Online Reservations|Restaurants          828626.00  operating   \n",
       "\n",
       "  country_code state_code  region    city  funding_rounds first_funding_at  \\\n",
       "0          CHE         25  Zurich  Zürich               2       2011-05-01   \n",
       "\n",
       "  last_funding_at  lifetime  \n",
       "0      2014-12-01      2998  "
      ]
     },
     "execution_count": 20,
     "metadata": {},
     "output_type": "execute_result"
    }
   ],
   "source": [
    "startups_data.head(1)"
   ]
  },
  {
   "cell_type": "code",
   "execution_count": 21,
   "id": "f4a73bf1-d07c-4b37-8117-728b5286cd5e",
   "metadata": {},
   "outputs": [
    {
     "name": "stdout",
     "output_type": "stream",
     "text": [
      "<class 'pandas.core.frame.DataFrame'>\n",
      "RangeIndex: 52516 entries, 0 to 52515\n",
      "Data columns (total 12 columns):\n",
      " #   Column             Non-Null Count  Dtype         \n",
      "---  ------             --------------  -----         \n",
      " 0   name               52515 non-null  object        \n",
      " 1   category_list      50051 non-null  object        \n",
      " 2   funding_total_usd  42447 non-null  float64       \n",
      " 3   status             52516 non-null  object        \n",
      " 4   country_code       47014 non-null  object        \n",
      " 5   state_code         45753 non-null  object        \n",
      " 6   region             46157 non-null  object        \n",
      " 7   city               46157 non-null  object        \n",
      " 8   funding_rounds     52516 non-null  int64         \n",
      " 9   first_funding_at   52516 non-null  datetime64[ns]\n",
      " 10  last_funding_at    52516 non-null  datetime64[ns]\n",
      " 11  lifetime           52516 non-null  int64         \n",
      "dtypes: datetime64[ns](2), float64(1), int64(2), object(7)\n",
      "memory usage: 4.8+ MB\n"
     ]
    }
   ],
   "source": [
    "startups_data.info()"
   ]
  },
  {
   "cell_type": "code",
   "execution_count": 22,
   "id": "5855340d-f014-4edc-992e-7628c3541d6b",
   "metadata": {},
   "outputs": [
    {
     "name": "stdout",
     "output_type": "stream",
     "text": [
      "<class 'pandas.core.frame.DataFrame'>\n",
      "RangeIndex: 13125 entries, 0 to 13124\n",
      "Data columns (total 11 columns):\n",
      " #   Column             Non-Null Count  Dtype         \n",
      "---  ------             --------------  -----         \n",
      " 0   name               13125 non-null  object        \n",
      " 1   category_list      12534 non-null  object        \n",
      " 2   funding_total_usd  10547 non-null  float64       \n",
      " 3   country_code       11743 non-null  object        \n",
      " 4   state_code         11430 non-null  object        \n",
      " 5   region             11536 non-null  object        \n",
      " 6   city               11538 non-null  object        \n",
      " 7   funding_rounds     13125 non-null  int64         \n",
      " 8   first_funding_at   13125 non-null  datetime64[ns]\n",
      " 9   last_funding_at    13125 non-null  datetime64[ns]\n",
      " 10  lifetime           13125 non-null  int64         \n",
      "dtypes: datetime64[ns](2), float64(1), int64(2), object(6)\n",
      "memory usage: 1.1+ MB\n"
     ]
    }
   ],
   "source": [
    "startups_test.info()"
   ]
  },
  {
   "cell_type": "markdown",
   "id": "aadc4baf-05ac-42bf-8473-ac1106fcb667",
   "metadata": {},
   "source": [
    "<span style=\"color: darkgreen\">**Набор столбцов в датасетах - корректен.** Целевой признак - **status** есть только в ``startups_data``</span>"
   ]
  },
  {
   "cell_type": "markdown",
   "id": "e790e7b6-d4e3-47a3-a826-9d54a4fc498d",
   "metadata": {},
   "source": [
    "#### Замена пропуска в колонке **name** на 'unknown' в датасете ``startups_data``"
   ]
  },
  {
   "cell_type": "code",
   "execution_count": 23,
   "id": "bd11c32a-6f37-4262-957f-79f05acd250e",
   "metadata": {},
   "outputs": [],
   "source": [
    "startups_data['name'].fillna('unknown', inplace=True)"
   ]
  },
  {
   "cell_type": "code",
   "execution_count": 24,
   "id": "a18965dd-f7b3-446e-946f-5b25f31f33ed",
   "metadata": {},
   "outputs": [
    {
     "data": {
      "text/plain": [
       "0"
      ]
     },
     "execution_count": 24,
     "metadata": {},
     "output_type": "execute_result"
    }
   ],
   "source": [
    "startups_data['name'].isna().sum()"
   ]
  },
  {
   "cell_type": "markdown",
   "id": "bfa50c6f-8359-4892-b983-e76c2ea1cdf0",
   "metadata": {},
   "source": [
    "<span style=\"color: darkgreen\">Пропуск в столбце **name** заполнен.</span>"
   ]
  },
  {
   "cell_type": "markdown",
   "id": "5a6f0fd8-4c65-48fe-b1ee-6f4353700172",
   "metadata": {},
   "source": [
    "#### Замена пропусков в колонке **category_list** на 'unknown' в датасетах ``startups_data`` и ``startups_test``"
   ]
  },
  {
   "cell_type": "markdown",
   "id": "d3ae5178-681d-4c9b-b13d-d1c8a505c3c2",
   "metadata": {},
   "source": [
    "Заполнение пропусков в колонке **category_list** (категория) на 'unknown'. Это необходимо, поскольку из датафрейма ``startups_test`` строки точно нельзя удалить, это скажется на итоговом наборе строк в таблице для соревнования."
   ]
  },
  {
   "cell_type": "code",
   "execution_count": 25,
   "id": "e0120da6-0e9e-4532-9d76-bfb60e59e538",
   "metadata": {},
   "outputs": [],
   "source": [
    "startups_data['category_list'].fillna('unknown', inplace=True)\n",
    "startups_test['category_list'].fillna('unknown', inplace=True)"
   ]
  },
  {
   "cell_type": "code",
   "execution_count": 26,
   "id": "9fa81de4-c64d-4f35-9efc-3b90b9053c99",
   "metadata": {},
   "outputs": [
    {
     "data": {
      "text/plain": [
       "0"
      ]
     },
     "execution_count": 26,
     "metadata": {},
     "output_type": "execute_result"
    }
   ],
   "source": [
    "startups_data['category_list'].isna().sum()"
   ]
  },
  {
   "cell_type": "code",
   "execution_count": 27,
   "id": "ff496318-4768-49f7-b61a-6346bc3b7799",
   "metadata": {},
   "outputs": [
    {
     "data": {
      "text/plain": [
       "0"
      ]
     },
     "execution_count": 27,
     "metadata": {},
     "output_type": "execute_result"
    }
   ],
   "source": [
    "startups_test['category_list'].isna().sum()"
   ]
  },
  {
   "cell_type": "markdown",
   "id": "e8201af0-8542-409d-8d54-ff39087aea56",
   "metadata": {},
   "source": [
    "<span style=\"color: darkgreen\">Пропуски в столбце **category_list** заполнены.</span>"
   ]
  },
  {
   "cell_type": "code",
   "execution_count": null,
   "id": "e08c8d93-8ac9-4cab-bfce-d026ead8590c",
   "metadata": {},
   "outputs": [],
   "source": []
  },
  {
   "cell_type": "code",
   "execution_count": null,
   "id": "7d831055-3bbc-4527-8c11-cc338f58f073",
   "metadata": {},
   "outputs": [],
   "source": []
  },
  {
   "cell_type": "code",
   "execution_count": null,
   "id": "54ab0f73-4d6e-46f3-8085-d9eb5add4772",
   "metadata": {},
   "outputs": [],
   "source": []
  },
  {
   "cell_type": "code",
   "execution_count": null,
   "id": "57942f2a-a538-4035-877a-67e930ee6b30",
   "metadata": {},
   "outputs": [],
   "source": []
  },
  {
   "cell_type": "code",
   "execution_count": null,
   "id": "0d809781-2841-4562-9c7d-71dc4dcf2505",
   "metadata": {},
   "outputs": [],
   "source": []
  },
  {
   "cell_type": "code",
   "execution_count": null,
   "id": "7416060a-c618-4ec4-a794-0a46012e175e",
   "metadata": {},
   "outputs": [],
   "source": []
  },
  {
   "cell_type": "code",
   "execution_count": 28,
   "id": "cff22222-c9cd-4a0c-b7fe-8967b87c6351",
   "metadata": {},
   "outputs": [
    {
     "name": "stdout",
     "output_type": "stream",
     "text": [
      "\n",
      "\n",
      "<class 'pandas.core.frame.DataFrame'>\n",
      "RangeIndex: 13125 entries, 0 to 13124\n",
      "Data columns (total 11 columns):\n",
      " #   Column             Non-Null Count  Dtype         \n",
      "---  ------             --------------  -----         \n",
      " 0   name               13125 non-null  object        \n",
      " 1   category_list      13125 non-null  object        \n",
      " 2   funding_total_usd  10547 non-null  float64       \n",
      " 3   country_code       11743 non-null  object        \n",
      " 4   state_code         11430 non-null  object        \n",
      " 5   region             11536 non-null  object        \n",
      " 6   city               11538 non-null  object        \n",
      " 7   funding_rounds     13125 non-null  int64         \n",
      " 8   first_funding_at   13125 non-null  datetime64[ns]\n",
      " 9   last_funding_at    13125 non-null  datetime64[ns]\n",
      " 10  lifetime           13125 non-null  int64         \n",
      "dtypes: datetime64[ns](2), float64(1), int64(2), object(6)\n",
      "memory usage: 1.1+ MB\n",
      "\n",
      "\n"
     ]
    },
    {
     "data": {
      "text/html": [
       "<div>\n",
       "<style scoped>\n",
       "    .dataframe tbody tr th:only-of-type {\n",
       "        vertical-align: middle;\n",
       "    }\n",
       "\n",
       "    .dataframe tbody tr th {\n",
       "        vertical-align: top;\n",
       "    }\n",
       "\n",
       "    .dataframe thead th {\n",
       "        text-align: right;\n",
       "    }\n",
       "</style>\n",
       "<table border=\"1\" class=\"dataframe\">\n",
       "  <thead>\n",
       "    <tr style=\"text-align: right;\">\n",
       "      <th></th>\n",
       "      <th>funding_total_usd</th>\n",
       "      <th>funding_rounds</th>\n",
       "      <th>lifetime</th>\n",
       "    </tr>\n",
       "  </thead>\n",
       "  <tbody>\n",
       "    <tr>\n",
       "      <th>count</th>\n",
       "      <td>10547.00</td>\n",
       "      <td>13125.00</td>\n",
       "      <td>13125.00</td>\n",
       "    </tr>\n",
       "    <tr>\n",
       "      <th>mean</th>\n",
       "      <td>16549102.70</td>\n",
       "      <td>1.71</td>\n",
       "      <td>3097.61</td>\n",
       "    </tr>\n",
       "    <tr>\n",
       "      <th>std</th>\n",
       "      <td>92172825.63</td>\n",
       "      <td>1.32</td>\n",
       "      <td>2128.36</td>\n",
       "    </tr>\n",
       "    <tr>\n",
       "      <th>min</th>\n",
       "      <td>1.00</td>\n",
       "      <td>1.00</td>\n",
       "      <td>52.00</td>\n",
       "    </tr>\n",
       "    <tr>\n",
       "      <th>25%</th>\n",
       "      <td>320000.00</td>\n",
       "      <td>1.00</td>\n",
       "      <td>1726.00</td>\n",
       "    </tr>\n",
       "    <tr>\n",
       "      <th>50%</th>\n",
       "      <td>2000000.00</td>\n",
       "      <td>1.00</td>\n",
       "      <td>2526.00</td>\n",
       "    </tr>\n",
       "    <tr>\n",
       "      <th>75%</th>\n",
       "      <td>10000000.00</td>\n",
       "      <td>2.00</td>\n",
       "      <td>3866.00</td>\n",
       "    </tr>\n",
       "    <tr>\n",
       "      <th>max</th>\n",
       "      <td>4715000000.00</td>\n",
       "      <td>15.00</td>\n",
       "      <td>17167.00</td>\n",
       "    </tr>\n",
       "  </tbody>\n",
       "</table>\n",
       "</div>"
      ],
      "text/plain": [
       "       funding_total_usd  funding_rounds  lifetime\n",
       "count           10547.00        13125.00  13125.00\n",
       "mean         16549102.70            1.71   3097.61\n",
       "std          92172825.63            1.32   2128.36\n",
       "min                 1.00            1.00     52.00\n",
       "25%            320000.00            1.00   1726.00\n",
       "50%           2000000.00            1.00   2526.00\n",
       "75%          10000000.00            2.00   3866.00\n",
       "max        4715000000.00           15.00  17167.00"
      ]
     },
     "metadata": {},
     "output_type": "display_data"
    },
    {
     "name": "stdout",
     "output_type": "stream",
     "text": [
      "\n",
      "\n"
     ]
    },
    {
     "data": {
      "text/html": [
       "<div>\n",
       "<style scoped>\n",
       "    .dataframe tbody tr th:only-of-type {\n",
       "        vertical-align: middle;\n",
       "    }\n",
       "\n",
       "    .dataframe tbody tr th {\n",
       "        vertical-align: top;\n",
       "    }\n",
       "\n",
       "    .dataframe thead th {\n",
       "        text-align: right;\n",
       "    }\n",
       "</style>\n",
       "<table border=\"1\" class=\"dataframe\">\n",
       "  <thead>\n",
       "    <tr style=\"text-align: right;\">\n",
       "      <th></th>\n",
       "      <th>name</th>\n",
       "      <th>category_list</th>\n",
       "      <th>funding_total_usd</th>\n",
       "      <th>country_code</th>\n",
       "      <th>state_code</th>\n",
       "      <th>region</th>\n",
       "      <th>city</th>\n",
       "      <th>funding_rounds</th>\n",
       "      <th>first_funding_at</th>\n",
       "      <th>last_funding_at</th>\n",
       "      <th>lifetime</th>\n",
       "    </tr>\n",
       "  </thead>\n",
       "  <tbody>\n",
       "    <tr>\n",
       "      <th>0</th>\n",
       "      <td>Crystalsol</td>\n",
       "      <td>Clean Technology</td>\n",
       "      <td>2819200.00</td>\n",
       "      <td>NIC</td>\n",
       "      <td>17</td>\n",
       "      <td>NaN</td>\n",
       "      <td>NaN</td>\n",
       "      <td>1</td>\n",
       "      <td>2009-07-01</td>\n",
       "      <td>2009-07-01</td>\n",
       "      <td>3501</td>\n",
       "    </tr>\n",
       "    <tr>\n",
       "      <th>1</th>\n",
       "      <td>JBI Fish &amp; Wings</td>\n",
       "      <td>Hospitality</td>\n",
       "      <td>NaN</td>\n",
       "      <td>USA</td>\n",
       "      <td>TN</td>\n",
       "      <td>TN - Other</td>\n",
       "      <td>Humboldt</td>\n",
       "      <td>1</td>\n",
       "      <td>2010-07-28</td>\n",
       "      <td>2010-07-28</td>\n",
       "      <td>2717</td>\n",
       "    </tr>\n",
       "    <tr>\n",
       "      <th>2</th>\n",
       "      <td>COINPLUS</td>\n",
       "      <td>Finance</td>\n",
       "      <td>428257.00</td>\n",
       "      <td>LUX</td>\n",
       "      <td>3</td>\n",
       "      <td>Esch-sur-alzette</td>\n",
       "      <td>Esch-sur-alzette</td>\n",
       "      <td>2</td>\n",
       "      <td>2014-05-15</td>\n",
       "      <td>2014-09-18</td>\n",
       "      <td>1295</td>\n",
       "    </tr>\n",
       "  </tbody>\n",
       "</table>\n",
       "</div>"
      ],
      "text/plain": [
       "               name     category_list  funding_total_usd country_code  \\\n",
       "0        Crystalsol  Clean Technology         2819200.00          NIC   \n",
       "1  JBI Fish & Wings       Hospitality                NaN          USA   \n",
       "2          COINPLUS           Finance          428257.00          LUX   \n",
       "\n",
       "  state_code            region              city  funding_rounds  \\\n",
       "0         17               NaN               NaN               1   \n",
       "1         TN        TN - Other          Humboldt               1   \n",
       "2          3  Esch-sur-alzette  Esch-sur-alzette               2   \n",
       "\n",
       "  first_funding_at last_funding_at  lifetime  \n",
       "0       2009-07-01      2009-07-01      3501  \n",
       "1       2010-07-28      2010-07-28      2717  \n",
       "2       2014-05-15      2014-09-18      1295  "
      ]
     },
     "metadata": {},
     "output_type": "display_data"
    },
    {
     "name": "stdout",
     "output_type": "stream",
     "text": [
      "\n",
      "\n",
      "Явных дублей: 0\n",
      "\n",
      "\n",
      "Пропущенных значений:\n",
      "name                    0\n",
      "category_list           0\n",
      "funding_total_usd    2578\n",
      "country_code         1382\n",
      "state_code           1695\n",
      "region               1589\n",
      "city                 1587\n",
      "funding_rounds          0\n",
      "first_funding_at        0\n",
      "last_funding_at         0\n",
      "lifetime                0\n",
      "dtype: int64\n",
      "\n",
      "\n"
     ]
    }
   ],
   "source": [
    "dataset_info(startups_test)"
   ]
  },
  {
   "cell_type": "code",
   "execution_count": null,
   "id": "0c62fb22-2bea-41d8-b303-a22bb8515d13",
   "metadata": {},
   "outputs": [],
   "source": []
  },
  {
   "cell_type": "code",
   "execution_count": null,
   "id": "8a490214-50a4-4f5c-af93-80200238d131",
   "metadata": {},
   "outputs": [],
   "source": []
  },
  {
   "cell_type": "code",
   "execution_count": 29,
   "id": "03243b8b-45df-4654-8dd7-8ddc1d742b39",
   "metadata": {},
   "outputs": [],
   "source": [
    "imp = SimpleImputer(missing_values=np.nan, strategy='mean')"
   ]
  },
  {
   "cell_type": "code",
   "execution_count": 30,
   "id": "73c598a3-4afc-4625-85f7-84fc5edf1c80",
   "metadata": {},
   "outputs": [],
   "source": [
    "num_columns = startups_data.select_dtypes('float').columns\n",
    "num_data = startups_data[num_columns]"
   ]
  },
  {
   "cell_type": "code",
   "execution_count": 31,
   "id": "851c7aa8-b339-4689-9ae0-6b18c8d325a7",
   "metadata": {},
   "outputs": [
    {
     "data": {
      "text/plain": [
       "SimpleImputer()"
      ]
     },
     "execution_count": 31,
     "metadata": {},
     "output_type": "execute_result"
    }
   ],
   "source": [
    "imp.fit(num_data)"
   ]
  },
  {
   "cell_type": "code",
   "execution_count": 32,
   "id": "f0e7d486-2fcc-4516-bf7f-b6de1c309049",
   "metadata": {},
   "outputs": [],
   "source": [
    "out = imp.transform(num_data)"
   ]
  },
  {
   "cell_type": "code",
   "execution_count": 33,
   "id": "7be65899-8bf8-41f3-9327-f184250c6c2f",
   "metadata": {},
   "outputs": [
    {
     "data": {
      "text/plain": [
       "array([[  828626.],\n",
       "       [42935019.],\n",
       "       [35456381.],\n",
       "       ...,\n",
       "       [   50000.],\n",
       "       [13000000.],\n",
       "       [  270820.]])"
      ]
     },
     "execution_count": 33,
     "metadata": {},
     "output_type": "execute_result"
    }
   ],
   "source": [
    "out"
   ]
  },
  {
   "cell_type": "code",
   "execution_count": 34,
   "id": "a8a150f8-7631-42d6-a975-dae537e4dfeb",
   "metadata": {},
   "outputs": [
    {
     "data": {
      "text/plain": [
       "array(['operating', 'closed'], dtype=object)"
      ]
     },
     "execution_count": 34,
     "metadata": {},
     "output_type": "execute_result"
    }
   ],
   "source": [
    "startups_data['status'].unique()"
   ]
  },
  {
   "cell_type": "code",
   "execution_count": 35,
   "id": "a75b4493-d707-4ea1-84ae-5a3d799761c4",
   "metadata": {},
   "outputs": [],
   "source": [
    "#crystalsol = startups_test[startups_test['name'] == 'Crystalsol']"
   ]
  },
  {
   "cell_type": "code",
   "execution_count": 36,
   "id": "b707a260-2e15-4fae-b4f0-73026e0cb97b",
   "metadata": {},
   "outputs": [
    {
     "data": {
      "text/plain": [
       "name                     0\n",
       "category_list            0\n",
       "funding_total_usd    10069\n",
       "status                   0\n",
       "country_code          5502\n",
       "state_code            6763\n",
       "region                6359\n",
       "city                  6359\n",
       "funding_rounds           0\n",
       "first_funding_at         0\n",
       "last_funding_at          0\n",
       "lifetime                 0\n",
       "dtype: int64"
      ]
     },
     "execution_count": 36,
     "metadata": {},
     "output_type": "execute_result"
    }
   ],
   "source": [
    "startups_data.isna().sum()"
   ]
  },
  {
   "cell_type": "code",
   "execution_count": 37,
   "id": "066ffbb3-0e8d-4a52-bfc7-6fb419595deb",
   "metadata": {},
   "outputs": [
    {
     "data": {
      "text/plain": [
       "0"
      ]
     },
     "execution_count": 37,
     "metadata": {},
     "output_type": "execute_result"
    }
   ],
   "source": [
    "len(startups_data[startups_data.duplicated(subset=[\\\n",
    "    'name'])])"
   ]
  },
  {
   "cell_type": "code",
   "execution_count": 38,
   "id": "ff38e920-d588-4286-b278-2713197a82bf",
   "metadata": {},
   "outputs": [
    {
     "data": {
      "text/plain": [
       "22106"
      ]
     },
     "execution_count": 38,
     "metadata": {},
     "output_type": "execute_result"
    }
   ],
   "source": [
    "len(startups_data['category_list'].unique())"
   ]
  },
  {
   "cell_type": "code",
   "execution_count": null,
   "id": "91a9ca07-f65d-4b81-99cc-396ed7aa75bf",
   "metadata": {},
   "outputs": [],
   "source": []
  }
 ],
 "metadata": {
  "kernelspec": {
   "display_name": "Python 3 (ipykernel)",
   "language": "python",
   "name": "python3"
  },
  "language_info": {
   "codemirror_mode": {
    "name": "ipython",
    "version": 3
   },
   "file_extension": ".py",
   "mimetype": "text/x-python",
   "name": "python",
   "nbconvert_exporter": "python",
   "pygments_lexer": "ipython3",
   "version": "3.9.21"
  }
 },
 "nbformat": 4,
 "nbformat_minor": 5
}
